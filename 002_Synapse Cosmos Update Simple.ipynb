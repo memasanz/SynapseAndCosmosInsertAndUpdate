{
  "cells": [
    {
      "cell_type": "code",
      "source": [
        "\r\n",
        "cosmosEndpoint = 'https://mm.documents.azure.com:443/'\r\n",
        "cosmosMasterKey = 'MyMasterKey'"
      ],
      "outputs": [
        {
          "output_type": "display_data",
          "data": {
            "application/vnd.livy.statement-meta+json": {
              "spark_pool": "pool03",
              "session_id": 0,
              "statement_id": 3,
              "state": "finished",
              "livy_statement_state": "available",
              "queued_time": "2022-05-04T22:58:04.5917829Z",
              "session_start_time": null,
              "execution_start_time": "2022-05-04T22:58:04.7155505Z",
              "execution_finish_time": "2022-05-04T22:58:04.7159459Z"
            },
            "text/plain": "StatementMeta(pool03, 0, 3, Finished, Available)"
          },
          "metadata": {}
        }
      ],
      "execution_count": 2,
      "metadata": {}
    },
    {
      "cell_type": "code",
      "source": [
        "\r\n",
        "cosmosDatabaseName = \"sampleDB\"\r\n",
        "cosmosContainerName = \"sampleContainer\"\r\n",
        "\r\n",
        "cfg = {\r\n",
        "  \"spark.cosmos.accountEndpoint\" : cosmosEndpoint,\r\n",
        "  \"spark.cosmos.accountKey\" : cosmosMasterKey,\r\n",
        "  \"spark.cosmos.database\" : cosmosDatabaseName,\r\n",
        "  \"spark.cosmos.container\" : cosmosContainerName,\r\n",
        "  \"spark.cosmos.write.strategy\": \"ItemOverwrite\",\r\n",
        "  \"spark.cosmos.write.bulk.enabled\": \"true\",\r\n",
        "}"
      ],
      "outputs": [
        {
          "output_type": "display_data",
          "data": {
            "application/vnd.livy.statement-meta+json": {
              "spark_pool": "pool03",
              "session_id": 0,
              "statement_id": 4,
              "state": "finished",
              "livy_statement_state": "available",
              "queued_time": "2022-05-04T22:58:05.6254041Z",
              "session_start_time": null,
              "execution_start_time": "2022-05-04T22:58:05.7674018Z",
              "execution_finish_time": "2022-05-04T22:58:05.927511Z"
            },
            "text/plain": "StatementMeta(pool03, 0, 4, Finished, Available)"
          },
          "metadata": {}
        }
      ],
      "execution_count": 3,
      "metadata": {
        "jupyter": {
          "source_hidden": false,
          "outputs_hidden": false
        },
        "nteract": {
          "transient": {
            "deleting": false
          }
        }
      }
    },
    {
      "cell_type": "code",
      "source": [
        "spark.conf.set(\"spark.sql.catalog.cosmosCatalog\", \"com.azure.cosmos.spark.CosmosCatalog\")\r\n",
        "spark.conf.set(\"spark.sql.catalog.cosmosCatalog.spark.cosmos.accountEndpoint\", cosmosEndpoint)\r\n",
        "spark.conf.set(\"spark.sql.catalog.cosmosCatalog.spark.cosmos.accountKey\", cosmosMasterKey)\r\n",
        "\r\n",
        "# create a cosmos database using catalog api\r\n",
        "spark.sql(\"CREATE DATABASE IF NOT EXISTS cosmosCatalog.{};\".format(cosmosDatabaseName))\r\n",
        "\r\n",
        "# create a cosmos container using catalog api\r\n",
        "spark.sql(\"CREATE TABLE IF NOT EXISTS cosmosCatalog.{}.{} using cosmos.oltp TBLPROPERTIES(partitionKeyPath = '/id', manualThroughput = '1100')\".format(cosmosDatabaseName, cosmosContainerName))"
      ],
      "outputs": [
        {
          "output_type": "display_data",
          "data": {
            "application/vnd.livy.statement-meta+json": {
              "spark_pool": null,
              "session_id": null,
              "statement_id": null,
              "state": "finished",
              "livy_statement_state": null,
              "queued_time": "2022-05-04T23:30:35.5213114Z",
              "session_start_time": null,
              "execution_start_time": null,
              "execution_finish_time": "2022-05-04T23:30:35.7192882Z"
            },
            "text/plain": "StatementMeta(, , , Finished, )"
          },
          "metadata": {}
        },
        {
          "output_type": "error",
          "ename": "LIVY_JOB_TIMED_OUT",
          "evalue": "Livy session has failed. Session state: Dead. Error code: LIVY_JOB_TIMED_OUT. [plugins.mm-harley-synapse-workspace.pool03.0 WorkspaceType:<Synapse> CCID:<d18f8632-492c-4c76-894a-15f94d7893c6>] [Monitoring] Livy Endpoint=[https://hubservice1.eastus.azuresynapse.net:8001/api/v1.0/publish/ea414447-dee8-476e-b8bd-4f7df964caa6]. Livy Id=[0]  Job failed during run time with state=[dead]. Source: Dependency.",
          "traceback": [
            "LIVY_JOB_TIMED_OUT: Livy session has failed. Session state: Dead. Error code: LIVY_JOB_TIMED_OUT. [plugins.mm-harley-synapse-workspace.pool03.0 WorkspaceType:<Synapse> CCID:<d18f8632-492c-4c76-894a-15f94d7893c6>] [Monitoring] Livy Endpoint=[https://hubservice1.eastus.azuresynapse.net:8001/api/v1.0/publish/ea414447-dee8-476e-b8bd-4f7df964caa6]. Livy Id=[0]  Job failed during run time with state=[dead]. Source: Dependency."
          ]
        }
      ],
      "execution_count": 4,
      "metadata": {
        "jupyter": {
          "source_hidden": false,
          "outputs_hidden": false
        },
        "nteract": {
          "transient": {
            "deleting": false
          }
        }
      }
    },
    {
      "cell_type": "code",
      "source": [
        "df = spark.createDataFrame(((\"cat-alive\", \"Schrodinger cat\", 2, True), (\"cat-dead\", \"Schrodinger cat\", 2, False)))\\\r\n",
        "    .toDF(\"id\",\"name\",\"age\",\"isAlive\")\r\n"
      ],
      "outputs": [
        {
          "output_type": "display_data",
          "data": {
            "application/vnd.livy.statement-meta+json": {
              "spark_pool": "pool02",
              "session_id": 2,
              "statement_id": 23,
              "state": "finished",
              "livy_statement_state": "available",
              "queued_time": "2022-05-04T22:28:07.6029315Z",
              "session_start_time": null,
              "execution_start_time": "2022-05-04T22:28:07.72079Z",
              "execution_finish_time": "2022-05-04T22:28:07.8716822Z"
            },
            "text/plain": "StatementMeta(pool02, 2, 23, Finished, Available)"
          },
          "metadata": {}
        }
      ],
      "execution_count": 22,
      "metadata": {
        "jupyter": {
          "source_hidden": false,
          "outputs_hidden": false
        },
        "nteract": {
          "transient": {
            "deleting": false
          }
        }
      }
    },
    {
      "cell_type": "code",
      "source": [
        "display(df)"
      ],
      "outputs": [
        {
          "output_type": "display_data",
          "data": {
            "application/vnd.livy.statement-meta+json": {
              "spark_pool": "pool02",
              "session_id": 2,
              "statement_id": 24,
              "state": "finished",
              "livy_statement_state": "available",
              "queued_time": "2022-05-04T22:28:08.5702927Z",
              "session_start_time": null,
              "execution_start_time": "2022-05-04T22:28:08.6844343Z",
              "execution_finish_time": "2022-05-04T22:28:09.1816402Z"
            },
            "text/plain": "StatementMeta(pool02, 2, 24, Finished, Available)"
          },
          "metadata": {}
        },
        {
          "output_type": "display_data",
          "data": {
            "application/vnd.synapse.widget-view+json": {
              "widget_id": "21b209de-9122-48c5-b0cd-b9fa8b5ea788",
              "widget_type": "Synapse.DataFrame"
            },
            "text/plain": "SynapseWidget(Synapse.DataFrame, 21b209de-9122-48c5-b0cd-b9fa8b5ea788)"
          },
          "metadata": {}
        }
      ],
      "execution_count": 23,
      "metadata": {
        "jupyter": {
          "source_hidden": false,
          "outputs_hidden": false
        },
        "nteract": {
          "transient": {
            "deleting": false
          }
        },
        "collapsed": false
      }
    },
    {
      "cell_type": "code",
      "source": [
        "df\\\r\n",
        "   .write\\\r\n",
        "   .format(\"cosmos.oltp\")\\\r\n",
        "   .options(**cfg)\\\r\n",
        "   .mode(\"APPEND\")\\\r\n",
        "   .save()"
      ],
      "outputs": [
        {
          "output_type": "display_data",
          "data": {
            "application/vnd.livy.statement-meta+json": {
              "spark_pool": "pool02",
              "session_id": 2,
              "statement_id": 25,
              "state": "finished",
              "livy_statement_state": "available",
              "queued_time": "2022-05-04T22:28:10.19275Z",
              "session_start_time": null,
              "execution_start_time": "2022-05-04T22:28:10.3339112Z",
              "execution_finish_time": "2022-05-04T22:28:12.128162Z"
            },
            "text/plain": "StatementMeta(pool02, 2, 25, Finished, Available)"
          },
          "metadata": {}
        }
      ],
      "execution_count": 24,
      "metadata": {
        "jupyter": {
          "source_hidden": false,
          "outputs_hidden": false
        },
        "nteract": {
          "transient": {
            "deleting": false
          }
        }
      }
    },
    {
      "cell_type": "code",
      "source": [
        "from pyspark.sql.functions import col\r\n",
        "\r\n",
        "df = spark.read.format(\"cosmos.oltp\").options(**cfg)\\\r\n",
        " .option(\"spark.cosmos.read.inferSchema.enabled\", \"true\")\\\r\n",
        " .load()\r\n",
        "\r\n",
        "df.filter(col(\"isAlive\") == True)\\\r\n",
        " .show()"
      ],
      "outputs": [
        {
          "output_type": "display_data",
          "data": {
            "application/vnd.livy.statement-meta+json": {
              "spark_pool": "pool02",
              "session_id": 2,
              "statement_id": 19,
              "state": "finished",
              "livy_statement_state": "available",
              "queued_time": "2022-05-04T22:27:31.2057234Z",
              "session_start_time": null,
              "execution_start_time": "2022-05-04T22:27:32.118456Z",
              "execution_finish_time": "2022-05-04T22:27:33.8872386Z"
            },
            "text/plain": "StatementMeta(pool02, 2, 19, Finished, Available)"
          },
          "metadata": {}
        },
        {
          "output_type": "stream",
          "name": "stdout",
          "text": [
            "+---------+---------------+---+-------+\n|       id|           name|age|isAlive|\n+---------+---------------+---+-------+\n|cat-alive|Schrodinger cat|  2|   true|\n+---------+---------------+---+-------+"
          ]
        }
      ],
      "execution_count": 18,
      "metadata": {
        "jupyter": {
          "source_hidden": false,
          "outputs_hidden": false
        },
        "nteract": {
          "transient": {
            "deleting": false
          }
        }
      }
    },
    {
      "cell_type": "code",
      "source": [
        "import pyspark.sql.functions as f\r\n",
        "df_to_update = df.withColumn('name', f.lit('newname'))"
      ],
      "outputs": [
        {
          "output_type": "display_data",
          "data": {
            "application/vnd.livy.statement-meta+json": {
              "spark_pool": "pool02",
              "session_id": 2,
              "statement_id": 26,
              "state": "finished",
              "livy_statement_state": "available",
              "queued_time": "2022-05-04T22:28:21.8989923Z",
              "session_start_time": null,
              "execution_start_time": "2022-05-04T22:28:22.0144855Z",
              "execution_finish_time": "2022-05-04T22:28:22.1755376Z"
            },
            "text/plain": "StatementMeta(pool02, 2, 26, Finished, Available)"
          },
          "metadata": {}
        }
      ],
      "execution_count": 25,
      "metadata": {
        "jupyter": {
          "source_hidden": false,
          "outputs_hidden": false
        },
        "nteract": {
          "transient": {
            "deleting": false
          }
        }
      }
    },
    {
      "cell_type": "code",
      "source": [
        "df_to_update \\\r\n",
        "        .write \\\r\n",
        "        .format(\"cosmos.oltp\") \\\r\n",
        "        .mode(\"Append\") \\\r\n",
        "        .options(**cfg) \\\r\n",
        "        .save()"
      ],
      "outputs": [
        {
          "output_type": "display_data",
          "data": {
            "application/vnd.livy.statement-meta+json": {
              "spark_pool": "pool02",
              "session_id": 2,
              "statement_id": 27,
              "state": "finished",
              "livy_statement_state": "available",
              "queued_time": "2022-05-04T22:28:22.9037573Z",
              "session_start_time": null,
              "execution_start_time": "2022-05-04T22:28:23.016091Z",
              "execution_finish_time": "2022-05-04T22:28:24.9372648Z"
            },
            "text/plain": "StatementMeta(pool02, 2, 27, Finished, Available)"
          },
          "metadata": {}
        }
      ],
      "execution_count": 26,
      "metadata": {
        "jupyter": {
          "source_hidden": false,
          "outputs_hidden": false
        },
        "nteract": {
          "transient": {
            "deleting": false
          }
        }
      }
    },
    {
      "cell_type": "code",
      "source": [
        "df = spark.read.format(\"cosmos.oltp\").options(**cfg)\\\r\n",
        " .option(\"spark.cosmos.read.inferSchema.enabled\", \"true\")\\\r\n",
        " .load().show()\r\n",
        "\r\n"
      ],
      "outputs": [
        {
          "output_type": "display_data",
          "data": {
            "application/vnd.livy.statement-meta+json": {
              "spark_pool": "pool02",
              "session_id": 2,
              "statement_id": 28,
              "state": "finished",
              "livy_statement_state": "available",
              "queued_time": "2022-05-04T22:28:25.9045026Z",
              "session_start_time": null,
              "execution_start_time": "2022-05-04T22:28:26.0078044Z",
              "execution_finish_time": "2022-05-04T22:28:27.8508843Z"
            },
            "text/plain": "StatementMeta(pool02, 2, 28, Finished, Available)"
          },
          "metadata": {}
        },
        {
          "output_type": "stream",
          "name": "stdout",
          "text": [
            "+---------+-------+---+-------+\n|       id|   name|age|isAlive|\n+---------+-------+---+-------+\n|cat-alive|newname|  2|   true|\n| cat-dead|newname|  2|  false|\n+---------+-------+---+-------+"
          ]
        }
      ],
      "execution_count": 27,
      "metadata": {
        "jupyter": {
          "source_hidden": false,
          "outputs_hidden": false
        },
        "nteract": {
          "transient": {
            "deleting": false
          }
        }
      }
    },
    {
      "cell_type": "code",
      "source": [],
      "outputs": [],
      "execution_count": null,
      "metadata": {
        "jupyter": {
          "source_hidden": false,
          "outputs_hidden": false
        },
        "nteract": {
          "transient": {
            "deleting": false
          }
        }
      }
    },
    {
      "cell_type": "code",
      "source": [],
      "outputs": [],
      "execution_count": null,
      "metadata": {
        "jupyter": {
          "source_hidden": false,
          "outputs_hidden": false
        },
        "nteract": {
          "transient": {
            "deleting": false
          }
        }
      }
    }
  ],
  "metadata": {
    "language_info": {
      "name": "python"
    },
    "kernelspec": {
      "name": "synapse_pyspark",
      "language": "Python",
      "display_name": "Synapse PySpark"
    },
    "kernel_info": {
      "name": "synapse_pyspark"
    },
    "save_output": true,
    "synapse_widget": {
      "version": "0.1",
      "state": {
        "21b209de-9122-48c5-b0cd-b9fa8b5ea788": {
          "type": "Synapse.DataFrame",
          "sync_state": {
            "table": {
              "rows": [
                {
                  "0": "cat-alive",
                  "1": "Schrodinger cat",
                  "2": "2",
                  "3": "true"
                },
                {
                  "0": "cat-dead",
                  "1": "Schrodinger cat",
                  "2": "2",
                  "3": "false"
                }
              ],
              "schema": [
                {
                  "key": "0",
                  "name": "id",
                  "type": "string"
                },
                {
                  "key": "1",
                  "name": "name",
                  "type": "string"
                },
                {
                  "key": "2",
                  "name": "age",
                  "type": "bigint"
                },
                {
                  "key": "3",
                  "name": "isAlive",
                  "type": "boolean"
                }
              ],
              "truncated": false
            },
            "isSummary": false,
            "language": "scala"
          },
          "persist_state": {
            "view": {
              "type": "details",
              "tableOptions": {},
              "chartOptions": {
                "chartType": "bar",
                "aggregationType": "sum",
                "categoryFieldKeys": [
                  "0"
                ],
                "seriesFieldKeys": [
                  "2"
                ],
                "isStacked": false
              }
            }
          }
        }
      }
    }
  },
  "nbformat": 4,
  "nbformat_minor": 2
}