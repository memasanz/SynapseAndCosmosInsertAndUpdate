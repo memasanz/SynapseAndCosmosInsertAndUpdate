{
  "cells": [
    {
      "cell_type": "code",
      "source": [
        "\r\n",
        "cosmosContainerName = 'product_details'\r\n",
        "cfg = {\r\n",
        "  \"spark.synapse.linkedService\" : \"CosmosDb1\",\r\n",
        "  \"spark.cosmos.container\" : cosmosContainerName,\r\n",
        "  \"spark.cosmos.write.strategy\": \"ItemOverwrite\",\r\n",
        "  \"spark.cosmos.write.bulk.enabled\": \"true\",\r\n",
        "}\r\n"
      ],
      "outputs": [
        {
          "output_type": "display_data",
          "data": {
            "application/vnd.livy.statement-meta+json": {
              "spark_pool": "pool03",
              "session_id": 1,
              "statement_id": 24,
              "state": "finished",
              "livy_statement_state": "available",
              "queued_time": "2022-05-04T23:17:09.5294282Z",
              "session_start_time": null,
              "execution_start_time": "2022-05-04T23:17:09.7019404Z",
              "execution_finish_time": "2022-05-04T23:17:09.7022561Z"
            },
            "text/plain": "StatementMeta(pool03, 1, 24, Finished, Available)"
          },
          "metadata": {}
        }
      ],
      "execution_count": 23,
      "metadata": {
        "jupyter": {
          "source_hidden": false,
          "outputs_hidden": false
        },
        "nteract": {
          "transient": {
            "deleting": false
          }
        }
      }
    },
    {
      "cell_type": "code",
      "source": [
        "df = spark.createDataFrame(((\"cat-alive\", \"Schrodinger cat\", 2, True), (\"cat-dead\", \"Schrodinger cat\", 2, False)))\\\r\n",
        "    .toDF(\"id\",\"name\",\"age\",\"isAlive\")\r\n"
      ],
      "outputs": [
        {
          "output_type": "display_data",
          "data": {
            "application/vnd.livy.statement-meta+json": {
              "spark_pool": "pool03",
              "session_id": 1,
              "statement_id": 26,
              "state": "finished",
              "livy_statement_state": "available",
              "queued_time": "2022-05-04T23:17:11.4236533Z",
              "session_start_time": null,
              "execution_start_time": "2022-05-04T23:17:11.5373745Z",
              "execution_finish_time": "2022-05-04T23:17:11.6827925Z"
            },
            "text/plain": "StatementMeta(pool03, 1, 26, Finished, Available)"
          },
          "metadata": {}
        }
      ],
      "execution_count": 25,
      "metadata": {
        "jupyter": {
          "source_hidden": false,
          "outputs_hidden": false
        },
        "nteract": {
          "transient": {
            "deleting": false
          }
        }
      }
    },
    {
      "cell_type": "code",
      "source": [
        "display(df)"
      ],
      "outputs": [
        {
          "output_type": "display_data",
          "data": {
            "application/vnd.livy.statement-meta+json": {
              "spark_pool": "pool03",
              "session_id": 1,
              "statement_id": 27,
              "state": "finished",
              "livy_statement_state": "available",
              "queued_time": "2022-05-04T23:17:12.5090214Z",
              "session_start_time": null,
              "execution_start_time": "2022-05-04T23:17:12.6262066Z",
              "execution_finish_time": "2022-05-04T23:17:13.1349191Z"
            },
            "text/plain": "StatementMeta(pool03, 1, 27, Finished, Available)"
          },
          "metadata": {}
        },
        {
          "output_type": "display_data",
          "data": {
            "application/vnd.synapse.widget-view+json": {
              "widget_id": "8f25c91c-6458-400a-9108-de2ebc33b9d9",
              "widget_type": "Synapse.DataFrame"
            },
            "text/plain": "SynapseWidget(Synapse.DataFrame, 8f25c91c-6458-400a-9108-de2ebc33b9d9)"
          },
          "metadata": {}
        }
      ],
      "execution_count": 26,
      "metadata": {
        "jupyter": {
          "source_hidden": false,
          "outputs_hidden": false
        },
        "nteract": {
          "transient": {
            "deleting": false
          }
        },
        "collapsed": false
      }
    },
    {
      "cell_type": "code",
      "source": [
        "df\\\r\n",
        "   .write\\\r\n",
        "   .format(\"cosmos.oltp\")\\\r\n",
        "   .options(**cfg)\\\r\n",
        "   .mode(\"APPEND\")\\\r\n",
        "   .save()"
      ],
      "outputs": [
        {
          "output_type": "display_data",
          "data": {
            "application/vnd.livy.statement-meta+json": {
              "spark_pool": "pool03",
              "session_id": 1,
              "statement_id": 28,
              "state": "finished",
              "livy_statement_state": "available",
              "queued_time": "2022-05-04T23:17:14.0953291Z",
              "session_start_time": null,
              "execution_start_time": "2022-05-04T23:17:14.2199477Z",
              "execution_finish_time": "2022-05-04T23:17:16.0389377Z"
            },
            "text/plain": "StatementMeta(pool03, 1, 28, Finished, Available)"
          },
          "metadata": {}
        }
      ],
      "execution_count": 27,
      "metadata": {
        "jupyter": {
          "source_hidden": false,
          "outputs_hidden": false
        },
        "nteract": {
          "transient": {
            "deleting": false
          }
        }
      }
    },
    {
      "cell_type": "code",
      "source": [
        "from pyspark.sql.functions import col\r\n",
        "\r\n",
        "df = spark.read.format(\"cosmos.oltp\").options(**cfg)\\\r\n",
        " .option(\"spark.cosmos.read.inferSchema.enabled\", \"true\")\\\r\n",
        " .load()\r\n",
        "\r\n",
        "df.filter(col(\"isAlive\") == True)\\\r\n",
        " .show()"
      ],
      "outputs": [
        {
          "output_type": "display_data",
          "data": {
            "application/vnd.livy.statement-meta+json": {
              "spark_pool": "pool03",
              "session_id": 1,
              "statement_id": 29,
              "state": "finished",
              "livy_statement_state": "available",
              "queued_time": "2022-05-04T23:17:14.8295773Z",
              "session_start_time": null,
              "execution_start_time": "2022-05-04T23:17:16.1475789Z",
              "execution_finish_time": "2022-05-04T23:17:17.2039716Z"
            },
            "text/plain": "StatementMeta(pool03, 1, 29, Finished, Available)"
          },
          "metadata": {}
        },
        {
          "output_type": "stream",
          "name": "stdout",
          "text": [
            "+---------------+-------+----------+-----------+-----+---+-----+---------+---------------+---------+--------+\n|           name|isAlive|updated_ts|description|price|age|brand|       id|productCategory|productID|imageURL|\n+---------------+-------+----------+-----------+-----+---+-----+---------+---------------+---------+--------+\n|Schrodinger cat|   true|      null|       null| null|  2| null|cat-alive|           null|     null|    null|\n|        newname|   true|      null|       null| null|  2| null|cat-alive|           null|     null|    null|\n+---------------+-------+----------+-----------+-----+---+-----+---------+---------------+---------+--------+"
          ]
        }
      ],
      "execution_count": 28,
      "metadata": {
        "jupyter": {
          "source_hidden": false,
          "outputs_hidden": false
        },
        "nteract": {
          "transient": {
            "deleting": false
          }
        }
      }
    },
    {
      "cell_type": "code",
      "source": [
        "import pyspark.sql.functions as f\r\n",
        "df_to_update = df.withColumn('name', f.lit('newname'))"
      ],
      "outputs": [
        {
          "output_type": "display_data",
          "data": {
            "application/vnd.livy.statement-meta+json": {
              "spark_pool": "pool03",
              "session_id": 1,
              "statement_id": 30,
              "state": "finished",
              "livy_statement_state": "available",
              "queued_time": "2022-05-04T23:17:19.2042066Z",
              "session_start_time": null,
              "execution_start_time": "2022-05-04T23:17:19.3208706Z",
              "execution_finish_time": "2022-05-04T23:17:19.4685205Z"
            },
            "text/plain": "StatementMeta(pool03, 1, 30, Finished, Available)"
          },
          "metadata": {}
        }
      ],
      "execution_count": 29,
      "metadata": {
        "jupyter": {
          "source_hidden": false,
          "outputs_hidden": false
        },
        "nteract": {
          "transient": {
            "deleting": false
          }
        }
      }
    },
    {
      "cell_type": "code",
      "source": [
        "df_to_update \\\r\n",
        "        .write \\\r\n",
        "        .format(\"cosmos.oltp\") \\\r\n",
        "        .mode(\"Append\") \\\r\n",
        "        .options(**cfg) \\\r\n",
        "        .save()"
      ],
      "outputs": [
        {
          "output_type": "display_data",
          "data": {
            "application/vnd.livy.statement-meta+json": {
              "spark_pool": "pool03",
              "session_id": 1,
              "statement_id": 31,
              "state": "finished",
              "livy_statement_state": "available",
              "queued_time": "2022-05-04T23:17:21.1539968Z",
              "session_start_time": null,
              "execution_start_time": "2022-05-04T23:17:21.2822299Z",
              "execution_finish_time": "2022-05-04T23:17:24.0597505Z"
            },
            "text/plain": "StatementMeta(pool03, 1, 31, Finished, Available)"
          },
          "metadata": {}
        }
      ],
      "execution_count": 30,
      "metadata": {
        "jupyter": {
          "source_hidden": false,
          "outputs_hidden": false
        },
        "nteract": {
          "transient": {
            "deleting": false
          }
        }
      }
    },
    {
      "cell_type": "code",
      "source": [
        "df = spark.read.format(\"cosmos.oltp\").options(**cfg)\\\r\n",
        " .option(\"spark.cosmos.read.inferSchema.enabled\", \"true\")\\\r\n",
        " .load().show()\r\n",
        "\r\n"
      ],
      "outputs": [
        {
          "output_type": "display_data",
          "data": {
            "application/vnd.livy.statement-meta+json": {
              "spark_pool": "pool03",
              "session_id": 1,
              "statement_id": 33,
              "state": "finished",
              "livy_statement_state": "available",
              "queued_time": "2022-05-04T23:31:19.8557171Z",
              "session_start_time": null,
              "execution_start_time": "2022-05-04T23:31:19.9996866Z",
              "execution_finish_time": "2022-05-04T23:31:20.0000754Z"
            },
            "text/plain": "StatementMeta(pool03, 1, 33, Finished, Available)"
          },
          "metadata": {}
        }
      ],
      "execution_count": 32,
      "metadata": {
        "jupyter": {
          "source_hidden": false,
          "outputs_hidden": false
        },
        "nteract": {
          "transient": {
            "deleting": false
          }
        }
      }
    },
    {
      "cell_type": "code",
      "source": [],
      "outputs": [],
      "execution_count": null,
      "metadata": {
        "jupyter": {
          "source_hidden": false,
          "outputs_hidden": false
        },
        "nteract": {
          "transient": {
            "deleting": false
          }
        }
      }
    },
    {
      "cell_type": "code",
      "source": [],
      "outputs": [],
      "execution_count": null,
      "metadata": {
        "jupyter": {
          "source_hidden": false,
          "outputs_hidden": false
        },
        "nteract": {
          "transient": {
            "deleting": false
          }
        }
      }
    }
  ],
  "metadata": {
    "kernelspec": {
      "name": "synapse_pyspark",
      "language": "Python",
      "display_name": "Synapse PySpark"
    },
    "language_info": {
      "name": "python"
    },
    "kernel_info": {
      "name": "synapse_pyspark"
    },
    "save_output": true,
    "synapse_widget": {
      "version": "0.1",
      "state": {
        "8f25c91c-6458-400a-9108-de2ebc33b9d9": {
          "type": "Synapse.DataFrame",
          "sync_state": {
            "table": {
              "rows": [
                {
                  "0": "cat-alive",
                  "1": "Schrodinger cat",
                  "2": "2",
                  "3": "true"
                },
                {
                  "0": "cat-dead",
                  "1": "Schrodinger cat",
                  "2": "2",
                  "3": "false"
                }
              ],
              "schema": [
                {
                  "key": "0",
                  "name": "id",
                  "type": "string"
                },
                {
                  "key": "1",
                  "name": "name",
                  "type": "string"
                },
                {
                  "key": "2",
                  "name": "age",
                  "type": "bigint"
                },
                {
                  "key": "3",
                  "name": "isAlive",
                  "type": "boolean"
                }
              ],
              "truncated": false
            },
            "isSummary": false,
            "language": "scala"
          },
          "persist_state": {
            "view": {
              "type": "details",
              "tableOptions": {},
              "chartOptions": {
                "chartType": "bar",
                "aggregationType": "sum",
                "categoryFieldKeys": [
                  "0"
                ],
                "seriesFieldKeys": [
                  "2"
                ],
                "isStacked": false
              }
            }
          }
        }
      }
    }
  },
  "nbformat": 4,
  "nbformat_minor": 2
}