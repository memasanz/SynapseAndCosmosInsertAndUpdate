{
  "cells": [
    {
      "cell_type": "code",
      "source": [
        "\r\n",
        "cosmosContainerName = 'product_details'\r\n",
        "cfg = {\r\n",
        "  \"spark.synapse.linkedService\" : \"CosmosDb1\",\r\n",
        "  \"spark.cosmos.container\" : cosmosContainerName,\r\n",
        "  \"spark.cosmos.write.strategy\": \"ItemOverwrite\",\r\n",
        "  \"spark.cosmos.write.bulk.enabled\": \"true\",\r\n",
        "}\r\n"
      ],
      "outputs": [
        {
          "output_type": "display_data",
          "data": {
            "application/vnd.livy.statement-meta+json": {
              "spark_pool": "pool03",
              "session_id": 1,
              "statement_id": 24,
              "state": "finished",
              "livy_statement_state": "available",
              "queued_time": "2022-05-04T23:17:09.5294282Z",
              "session_start_time": null,
              "execution_start_time": "2022-05-04T23:17:09.7019404Z",
              "execution_finish_time": "2022-05-04T23:17:09.7022561Z"
            },
            "text/plain": "StatementMeta(pool03, 1, 24, Finished, Available)"
          },
          "metadata": {}
        }
      ],
      "execution_count": 23,
      "metadata": {
        "jupyter": {
          "source_hidden": false,
          "outputs_hidden": false
        },
        "nteract": {
          "transient": {
            "deleting": false
          }
        }
      }
    },
    {
      "cell_type": "code",
      "source": [
        "df = spark.createDataFrame(((\"cat-alive\", \"Schrodinger cat\", 2, True), (\"cat-dead\", \"Schrodinger cat\", 2, False)))\\\r\n",
        "    .toDF(\"id\",\"name\",\"age\",\"isAlive\")\r\n"
      ],
      "outputs": [
        {
          "output_type": "display_data",
          "data": {
            "application/vnd.livy.statement-meta+json": {
              "spark_pool": "pool03",
              "session_id": 1,
              "statement_id": 26,
              "state": "finished",
              "livy_statement_state": "available",
              "queued_time": "2022-05-04T23:17:11.4236533Z",
              "session_start_time": null,
              "execution_start_time": "2022-05-04T23:17:11.5373745Z",
              "execution_finish_time": "2022-05-04T23:17:11.6827925Z"
            },
            "text/plain": "StatementMeta(pool03, 1, 26, Finished, Available)"
          },
          "metadata": {}
        }
      ],
      "execution_count": 25,
      "metadata": {
        "jupyter": {
          "source_hidden": false,
          "outputs_hidden": false
        },
        "nteract": {
          "transient": {
            "deleting": false
          }
        }
      }
    },
    {
      "cell_type": "code",
      "source": [
        "display(df)"
      ],
      "outputs": [
        {
          "output_type": "display_data",
          "data": {
            "application/vnd.livy.statement-meta+json": {
              "spark_pool": "pool03",
              "session_id": 1,
              "statement_id": 27,
              "state": "finished",
              "livy_statement_state": "available",
              "queued_time": "2022-05-04T23:17:12.5090214Z",
              "session_start_time": null,
              "execution_start_time": "2022-05-04T23:17:12.6262066Z",
              "execution_finish_time": "2022-05-04T23:17:13.1349191Z"
            },
            "text/plain": "StatementMeta(pool03, 1, 27, Finished, Available)"
          },
          "metadata": {}
        },
        {
          "output_type": "display_data",
          "data": {
            "application/vnd.synapse.widget-view+json": {
              "widget_id": "8f25c91c-6458-400a-9108-de2ebc33b9d9",
              "widget_type": "Synapse.DataFrame"
            },
            "text/plain": "SynapseWidget(Synapse.DataFrame, 8f25c91c-6458-400a-9108-de2ebc33b9d9)"
          },
          "metadata": {}
        }
      ],
      "execution_count": 26,
      "metadata": {
        "jupyter": {
          "source_hidden": false,
          "outputs_hidden": false
        },
        "nteract": {
          "transient": {
            "deleting": false
          }
        },
        "collapsed": false
      }
    },
    {
      "cell_type": "code",
      "source": [
        "df\\\r\n",
        "   .write\\\r\n",
        "   .format(\"cosmos.oltp\")\\\r\n",
        "   .options(**cfg)\\\r\n",
        "   .mode(\"APPEND\")\\\r\n",
        "   .save()"
      ],
      "outputs": [
        {
          "output_type": "display_data",
          "data": {
            "application/vnd.livy.statement-meta+json": {
              "spark_pool": "pool03",
              "session_id": 1,
              "statement_id": 28,
              "state": "finished",
              "livy_statement_state": "available",
              "queued_time": "2022-05-04T23:17:14.0953291Z",
              "session_start_time": null,
              "execution_start_time": "2022-05-04T23:17:14.2199477Z",
              "execution_finish_time": "2022-05-04T23:17:16.0389377Z"
            },
            "text/plain": "StatementMeta(pool03, 1, 28, Finished, Available)"
          },
          "metadata": {}
        }
      ],
      "execution_count": 27,
      "metadata": {
        "jupyter": {
          "source_hidden": false,
          "outputs_hidden": false
        },
        "nteract": {
          "transient": {
            "deleting": false
          }
        }
      }
    },
    {
      "cell_type": "code",
      "source": [
        "from pyspark.sql.functions import col\r\n",
        "\r\n",
        "df = spark.read.format(\"cosmos.oltp\").options(**cfg)\\\r\n",
        " .option(\"spark.cosmos.read.inferSchema.enabled\", \"true\")\\\r\n",
        " .load()\r\n",
        "\r\n",
        "df.filter(col(\"isAlive\") == True)\\\r\n",
        " .show()"
      ],
      "outputs": [
        {
          "output_type": "display_data",
          "data": {
            "application/vnd.livy.statement-meta+json": {
              "spark_pool": "pool03",
              "session_id": 1,
              "statement_id": 29,
              "state": "finished",
              "livy_statement_state": "available",
              "queued_time": "2022-05-04T23:17:14.8295773Z",
              "session_start_time": null,
              "execution_start_time": "2022-05-04T23:17:16.1475789Z",
              "execution_finish_time": "2022-05-04T23:17:17.2039716Z"
            },
            "text/plain": "StatementMeta(pool03, 1, 29, Finished, Available)"
          },
          "metadata": {}
        },
        {
          "output_type": "stream",
          "name": "stdout",
          "text": [
            "+---------------+-------+----------+-----------+-----+---+-----+---------+---------------+---------+--------+\n|           name|isAlive|updated_ts|description|price|age|brand|       id|productCategory|productID|imageURL|\n+---------------+-------+----------+-----------+-----+---+-----+---------+---------------+---------+--------+\n|Schrodinger cat|   true|      null|       null| null|  2| null|cat-alive|           null|     null|    null|\n|        newname|   true|      null|       null| null|  2| null|cat-alive|           null|     null|    null|\n+---------------+-------+----------+-----------+-----+---+-----+---------+---------------+---------+--------+"
          ]
        }
      ],
      "execution_count": 28,
      "metadata": {
        "jupyter": {
          "source_hidden": false,
          "outputs_hidden": false
        },
        "nteract": {
          "transient": {
            "deleting": false
          }
        }
      }
    },
    {
      "cell_type": "code",
      "source": [
        "import pyspark.sql.functions as f\r\n",
        "df_to_update = df.withColumn('name', f.lit('newname'))"
      ],
      "outputs": [
        {
          "output_type": "display_data",
          "data": {
            "application/vnd.livy.statement-meta+json": {
              "spark_pool": "pool03",
              "session_id": 1,
              "statement_id": 30,
              "state": "finished",
              "livy_statement_state": "available",
              "queued_time": "2022-05-04T23:17:19.2042066Z",
              "session_start_time": null,
              "execution_start_time": "2022-05-04T23:17:19.3208706Z",
              "execution_finish_time": "2022-05-04T23:17:19.4685205Z"
            },
            "text/plain": "StatementMeta(pool03, 1, 30, Finished, Available)"
          },
          "metadata": {}
        }
      ],
      "execution_count": 29,
      "metadata": {
        "jupyter": {
          "source_hidden": false,
          "outputs_hidden": false
        },
        "nteract": {
          "transient": {
            "deleting": false
          }
        }
      }
    },
    {
      "cell_type": "code",
      "source": [
        "df_to_update \\\r\n",
        "        .write \\\r\n",
        "        .format(\"cosmos.oltp\") \\\r\n",
        "        .mode(\"Append\") \\\r\n",
        "        .options(**cfg) \\\r\n",
        "        .save()"
      ],
      "outputs": [
        {
          "output_type": "display_data",
          "data": {
            "application/vnd.livy.statement-meta+json": {
              "spark_pool": "pool03",
              "session_id": 1,
              "statement_id": 31,
              "state": "finished",
              "livy_statement_state": "available",
              "queued_time": "2022-05-04T23:17:21.1539968Z",
              "session_start_time": null,
              "execution_start_time": "2022-05-04T23:17:21.2822299Z",
              "execution_finish_time": "2022-05-04T23:17:24.0597505Z"
            },
            "text/plain": "StatementMeta(pool03, 1, 31, Finished, Available)"
          },
          "metadata": {}
        }
      ],
      "execution_count": 30,
      "metadata": {
        "jupyter": {
          "source_hidden": false,
          "outputs_hidden": false
        },
        "nteract": {
          "transient": {
            "deleting": false
          }
        }
      }
    },
    {
      "cell_type": "code",
      "source": [
        "df = spark.read.format(\"cosmos.oltp\").options(**cfg)\\\r\n",
        " .option(\"spark.cosmos.read.inferSchema.enabled\", \"true\")\\\r\n",
        " .load().show()\r\n",
        "\r\n"
      ],
      "outputs": [
        {
          "output_type": "display_data",
          "data": {
            "application/vnd.livy.statement-meta+json": {
              "spark_pool": "pool03",
              "session_id": 1,
              "statement_id": 32,
              "state": "finished",
              "livy_statement_state": "available",
              "queued_time": "2022-05-04T23:17:22.1353291Z",
              "session_start_time": null,
              "execution_start_time": "2022-05-04T23:17:24.2013776Z",
              "execution_finish_time": "2022-05-04T23:17:24.7363726Z"
            },
            "text/plain": "StatementMeta(pool03, 1, 32, Finished, Available)"
          },
          "metadata": {}
        },
        {
          "output_type": "stream",
          "name": "stdout",
          "text": [
            "+-------+-------+----------------+--------------------+-------+----+---------+--------------------+---------------+---------+--------------------+\n|   name|isAlive|      updated_ts|         description|  price| age|    brand|                  id|productCategory|productID|            imageURL|\n+-------+-------+----------------+--------------------+-------+----+---------+--------------------+---------------+---------+--------------------+\n|newname|   null|1641317730310000|                    |  38.42|null|  Contoso|f16d848b-0b36-426...|           Home|  1005186|     globe black.jpg|\n|newname|   null|1641317730310000|  <p>Earphones, c...|  74.99|null|  Contoso|6ad3910e-2cf1-400...|    Electronics|  1002524|mPhone wood table...|\n|newname|   null|1641317730310000|                    | 239.42|null|  Contoso|f10eb753-e089-474...| Outdoor Living|  1005161| chairs outdoors.jpg|\n|newname|   null|1641317730310000|                    |4719.42|null|  Contoso|3eb74377-2e9a-41c...|           Home|  5100337|kitchen modern 1.jpg|\n|newname|   null|1641317730310000|  <p>Earphones, c...|  74.99|null|  Contoso|fd2ab25c-cc1e-473...|    Electronics|  4804295|         speaker.jpg|\n|newname|   null|1641317730310000|                    | 271.42|null|  Contoso|30e7542e-8114-4a6...|           Home|  3600661|      grey couch.jpg|\n|newname|   null|1641317730310000|  <p>Earphones, c...|  74.99|null|  Contoso|76c41e8f-e0cb-429...|    Electronics|  5100601|phones and laptop...|\n|newname|   null|1641317730310000|                    |  74.99|null|  Contoso|26c4150d-9c4f-47f...|    Electronics|  4804295|         speaker.jpg|\n|newname|   null|1641317730310000|                    |  74.99|null|  Contoso|35fceb33-1706-44c...|    Electronics|  1002633|phones and laptop...|\n|newname|   null|1641317730310000|                    |1957.99|null|Microsoft|77f771f5-b707-4f8...|    Electronics|  1004886|   surface black.jpg|\n|newname|   null|1641317730310000|                    | 271.42|null|  Contoso|433358f7-5531-454...|           Home|  1005204|      grey couch.jpg|\n|newname|   null|1641317730310000|  <p>Earphones, c...|  74.99|null|  Contoso|a105e3a0-a6cd-466...|    Electronics|  3700929|headphones yellow...|\n|newname|   null|1641317730310000|                    |  49.42|null|  Contoso|8289f507-d2cd-44a...| Outdoor Living|  1801849|    watering can.jpg|\n|newname|   null|1641317730310000|  <p>Earphones, c...|  74.99|null|  Contoso|38f8c09d-9189-4cb...|    Electronics|  3700927|headphones shower...|\n|newname|   null|1641317730310000|                    | 339.42|null|  Contoso|ae3518a8-5d0d-409...| Tools_Hardware|  1801690|             saw.jpg|\n|newname|   null|1641317730310000|                    |  88.42|null|  Contoso|539f44ac-ca1d-442...|           Home|100005472|    chair orange.jpg|\n|newname|   null|1641317730310000|                    | 230.99|null|Microsoft|cdc83f7f-0d45-49e...|    Electronics|  1304409|surface close-up.jpg|\n|newname|   null|1641317730310000|  <p>Earphones, c...|  74.99|null|  Contoso|6b3c3d21-ccd2-499...|    Electronics|  1004781|   phone on bike.jpg|\n|newname|   null|1641317730310000|                    | 121.42|null|  Contoso|47c6e47b-032b-4c3...|           Home|  1004833|      grey chair.jpg|\n|newname|   null|1641317730310000|                    | 129.42|null|  Contoso|f32fa1f2-c513-49e...| Tools_Hardware|  3700766|           drill.jpg|\n+-------+-------+----------------+--------------------+-------+----+---------+--------------------+---------------+---------+--------------------+\nonly showing top 20 rows"
          ]
        }
      ],
      "execution_count": 31,
      "metadata": {
        "jupyter": {
          "source_hidden": false,
          "outputs_hidden": false
        },
        "nteract": {
          "transient": {
            "deleting": false
          }
        }
      }
    },
    {
      "cell_type": "code",
      "source": [],
      "outputs": [],
      "execution_count": null,
      "metadata": {
        "jupyter": {
          "source_hidden": false,
          "outputs_hidden": false
        },
        "nteract": {
          "transient": {
            "deleting": false
          }
        }
      }
    },
    {
      "cell_type": "code",
      "source": [],
      "outputs": [],
      "execution_count": null,
      "metadata": {
        "jupyter": {
          "source_hidden": false,
          "outputs_hidden": false
        },
        "nteract": {
          "transient": {
            "deleting": false
          }
        }
      }
    }
  ],
  "metadata": {
    "kernelspec": {
      "name": "synapse_pyspark",
      "language": "Python",
      "display_name": "Synapse PySpark"
    },
    "language_info": {
      "name": "python"
    },
    "kernel_info": {
      "name": "synapse_pyspark"
    },
    "save_output": true,
    "synapse_widget": {
      "version": "0.1",
      "state": {
        "8f25c91c-6458-400a-9108-de2ebc33b9d9": {
          "type": "Synapse.DataFrame",
          "sync_state": {
            "table": {
              "rows": [
                {
                  "0": "cat-alive",
                  "1": "Schrodinger cat",
                  "2": "2",
                  "3": "true"
                },
                {
                  "0": "cat-dead",
                  "1": "Schrodinger cat",
                  "2": "2",
                  "3": "false"
                }
              ],
              "schema": [
                {
                  "key": "0",
                  "name": "id",
                  "type": "string"
                },
                {
                  "key": "1",
                  "name": "name",
                  "type": "string"
                },
                {
                  "key": "2",
                  "name": "age",
                  "type": "bigint"
                },
                {
                  "key": "3",
                  "name": "isAlive",
                  "type": "boolean"
                }
              ],
              "truncated": false
            },
            "isSummary": false,
            "language": "scala"
          },
          "persist_state": {
            "view": {
              "type": "details",
              "tableOptions": {},
              "chartOptions": {
                "chartType": "bar",
                "aggregationType": "sum",
                "categoryFieldKeys": [
                  "0"
                ],
                "seriesFieldKeys": [
                  "2"
                ],
                "isStacked": false
              }
            }
          }
        }
      }
    }
  },
  "nbformat": 4,
  "nbformat_minor": 2
}